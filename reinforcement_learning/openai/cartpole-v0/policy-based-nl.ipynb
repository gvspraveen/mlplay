{
 "cells": [
  {
   "cell_type": "markdown",
   "metadata": {},
   "source": [
    "## Solution to Open AI's [Cart Pole V0] (https://gym.openai.com/envs/CartPole-v0)\n",
    "\n",
    "### Based of [Policy-based Agents Tutorial](https://medium.com/@awjuliani/super-simple-reinforcement-learning-tutorial-part-2-ded33892c724) and [Andrej Karpathy Gist](https://gist.github.com/karpathy/a4166c7fe253700972fcbc77e4ea32c5)"
   ]
  },
  {
   "cell_type": "code",
   "execution_count": 2,
   "metadata": {
    "collapsed": true
   },
   "outputs": [],
   "source": [
    "import tensorflow as tf\n",
    "import numpy as np\n",
    "%matplotlib inline\n",
    "import matplotlib.pyplot as plt"
   ]
  },
  {
   "cell_type": "markdown",
   "metadata": {},
   "source": [
    "### Setup gym env"
   ]
  },
  {
   "cell_type": "code",
   "execution_count": 3,
   "metadata": {
    "collapsed": false
   },
   "outputs": [
    {
     "name": "stderr",
     "output_type": "stream",
     "text": [
      "[2017-05-29 18:52:29,002] Making new env: CartPole-v0\n"
     ]
    }
   ],
   "source": [
    "import gym\n",
    "env = gym.make('CartPole-v0')"
   ]
  },
  {
   "cell_type": "markdown",
   "metadata": {},
   "source": [
    "### Test dimensionality of the observation space"
   ]
  },
  {
   "cell_type": "code",
   "execution_count": 4,
   "metadata": {
    "collapsed": false
   },
   "outputs": [
    {
     "name": "stdout",
     "output_type": "stream",
     "text": [
      "[ 0.03550155  0.16023649 -0.03228949 -0.32001057]\n"
     ]
    }
   ],
   "source": [
    "env.reset()\n",
    "sample_observation, _, _, info = env.step(1)\n",
    "print sample_observation"
   ]
  },
  {
   "cell_type": "markdown",
   "metadata": {},
   "source": [
    "### Setup Neural Network\n"
   ]
  },
  {
   "cell_type": "markdown",
   "metadata": {},
   "source": [
    "#### Hyper Params"
   ]
  },
  {
   "cell_type": "code",
   "execution_count": 9,
   "metadata": {
    "collapsed": false
   },
   "outputs": [],
   "source": [
    "tf.reset_default_graph()\n",
    "\n",
    "\n",
    "input_size = len(sample_observation)\n",
    "learning_rate = 0.01\n",
    "\n",
    "# I am going to be using two layer NL\n",
    "hidden_layer_size = 20\n",
    "w1_size = [input_size, hidden_layer_size]\n",
    "w2_size = [hidden_layer_size, 1]\n",
    "\n",
    "# Define tensors\n",
    "observation = tf.placeholder(tf.float32, [None, input_size], name=\"input_obs\")\n",
    "W1 = tf.get_variable(\"W1\", shape=w1_size, initializer=tf.contrib.layers.xavier_initializer())\n",
    "layer1 = tf.nn.relu(tf.matmul(observation, W1))\n",
    "\n",
    "W2 = tf.get_variable(\"W2\", shape=w2_size, initializer=tf.contrib.layers.xavier_initializer())\n",
    "probability = tf.nn.sigmoid(tf.matmul(layer1, W2))\n",
    "\n",
    "training_vars = tf.trainable_variables()\n",
    "fake_labels = tf.placeholder(tf.float32,[None,1], name=\"fake_labels\")\n",
    "advantages = tf.placeholder(tf.float32,name=\"advantages\")\n",
    "\n",
    "loglik = tf.log(fake_labels*(fake_labels - probability) + (1 - fake_labels)*(fake_labels + probability))\n",
    "loss = -tf.reduce_mean(loglik * advantages)\n",
    "updated_grads = tf.gradients(loss, training_vars)\n",
    "\n",
    "\n",
    "adam = tf.train.AdamOptimizer(learning_rate=learning_rate) # Our optimizer\n",
    "W1Grad = tf.placeholder(tf.float32,name=\"batch_grad1\") # Placeholders to send the final gradients through when we update.\n",
    "W2Grad = tf.placeholder(tf.float32,name=\"batch_grad2\")\n",
    "batchGrad = [W1Grad,W2Grad]\n",
    "updateGrads = adam.apply_gradients(zip(batchGrad,training_vars))"
   ]
  },
  {
   "cell_type": "code",
   "execution_count": null,
   "metadata": {
    "collapsed": true
   },
   "outputs": [],
   "source": []
  }
 ],
 "metadata": {
  "kernelspec": {
   "display_name": "Python 2",
   "language": "python",
   "name": "python2"
  },
  "language_info": {
   "codemirror_mode": {
    "name": "ipython",
    "version": 2
   },
   "file_extension": ".py",
   "mimetype": "text/x-python",
   "name": "python",
   "nbconvert_exporter": "python",
   "pygments_lexer": "ipython2",
   "version": "2.7.12"
  }
 },
 "nbformat": 4,
 "nbformat_minor": 2
}
