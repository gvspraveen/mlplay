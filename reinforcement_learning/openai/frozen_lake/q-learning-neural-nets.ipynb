{
 "cells": [
  {
   "cell_type": "markdown",
   "metadata": {
    "collapsed": true
   },
   "source": [
    "# Q learning based solution for [FrozenLake-v0](https://gym.openai.com/envs/FrozenLake-v0)\n",
    "\n",
    "Mostly based on explanations in [mnemstudio tutorial](http://mnemstudio.org/path-finding-q-learning-tutorial.htm) and this wonderful RL series in [Medium](https://medium.com/emergent-future/simple-reinforcement-learning-with-tensorflow-part-0-q-learning-with-tables-and-neural-networks-d195264329d0).\n",
    "\n",
    "### With a simple neural net using tensorflow"
   ]
  },
  {
   "cell_type": "code",
   "execution_count": 259,
   "metadata": {
    "collapsed": false
   },
   "outputs": [],
   "source": [
    "import gym\n",
    "import numpy as np\n",
    "import random\n",
    "import tensorflow as tf\n",
    "import matplotlib.pyplot as plt\n",
    "%matplotlib inline"
   ]
  },
  {
   "cell_type": "markdown",
   "metadata": {
    "collapsed": true
   },
   "source": [
    "## Load Open AI gym\n"
   ]
  },
  {
   "cell_type": "code",
   "execution_count": 260,
   "metadata": {
    "collapsed": false
   },
   "outputs": [
    {
     "name": "stderr",
     "output_type": "stream",
     "text": [
      "[2017-05-27 17:32:21,824] Making new env: FrozenLake-v0\n"
     ]
    }
   ],
   "source": [
    "env = gym.make('FrozenLake-v0')"
   ]
  },
  {
   "cell_type": "code",
   "execution_count": 261,
   "metadata": {
    "collapsed": true
   },
   "outputs": [],
   "source": [
    "# Load Gym parameters\n",
    "state_size = env.observation_space.n\n",
    "action_size = env.action_space.n"
   ]
  },
  {
   "cell_type": "code",
   "execution_count": 269,
   "metadata": {
    "collapsed": true
   },
   "outputs": [],
   "source": [
    "gamma_reduction = 0.99\n",
    "num_episodes = 10000\n",
    "\n",
    "learning_rate = 0.01\n",
    "\n",
    "# print the reward for episode every n episodes\n",
    "print_every = 1000\n",
    "\n",
    "max_loops_per_episode = state_size * action_size * 2"
   ]
  },
  {
   "cell_type": "code",
   "execution_count": 271,
   "metadata": {
    "collapsed": false
   },
   "outputs": [],
   "source": [
    "# Setup Tensors\n",
    "tf.reset_default_graph()\n",
    "\n",
    "# hidden_layer_size = 10\n",
    "# W1Size = [state_size, hidden_layer_size]\n",
    "# W2Size = [hidden_layer_size, action_size]\n",
    "\n",
    "# bais1 = tf.Variable(tf.random_normal([hidden_layer_size]))\n",
    "# bias2 = tf.Variable(tf.random_normal([action_size]))\n",
    "\n",
    "# Win = tf.Variable(tf.random_uniform(W1Size, 0, 0.01))\n",
    "# WOut = tf.Variable(tf.random_uniform(W2Size, 0, 0.01))\n",
    "\n",
    "# layer1 = tf.add(tf.matmul(inputs, Win), bais1)\n",
    "# Qout = tf.add(tf.matmul(layer1, WOut), bias2)\n",
    "\n",
    "inputs = tf.placeholder(shape=[1,state_size],dtype=tf.float32)\n",
    "W = tf.Variable(tf.random_uniform([state_size,action_size],0,0.01))\n",
    "# bias2 = tf.Variable(tf.random_normal([action_size]))\n",
    "Qout = tf.matmul(inputs,W)\n",
    "predicted_move = tf.argmax(Qout,1)\n",
    "\n",
    "\n",
    "nextQ = tf.placeholder(shape=[1,action_size],dtype=tf.float32)\n",
    "loss = tf.reduce_sum(tf.square(nextQ - Qout))\n",
    "trainer = tf.train.GradientDescentOptimizer(learning_rate=learning_rate)\n",
    "updateModel = trainer.minimize(loss)"
   ]
  },
  {
   "cell_type": "code",
   "execution_count": 272,
   "metadata": {
    "collapsed": false
   },
   "outputs": [],
   "source": [
    "def play(print_every, max_loops_per_episode):\n",
    "    \n",
    "    rand_action_prob = 0.1\n",
    "    init = tf.global_variables_initializer()\n",
    "    \n",
    "    # Training logic\n",
    "    rewards = []\n",
    "    \n",
    "    with tf.Session() as sess:\n",
    "        sess.run(init)\n",
    "        for i in range(num_episodes):\n",
    "            # Get the starting state\n",
    "            state = env.reset()\n",
    "            done = False\n",
    "            episode_reward = 0\n",
    "            # Algorithm works by taking a step at a time based on Q learning. Gym tells us at each step if we reached `done`\n",
    "            # state. Done state means either we failed or reach goal state. But it could be possible that our algorithm\n",
    "            # keeps going in circles and never reaches done state. We should break this.\n",
    "            # In my approach I assume that if our step count is twice size of the board that means we are not getting anywhere.\n",
    "            count = 0\n",
    "            while count < max_loops_per_episode and not done:\n",
    "                count += 1\n",
    "                next_action, predictedQ = sess.run([predicted_move,Qout], feed_dict={inputs:np.identity(16)[state:state+1]})\n",
    "                \n",
    "                    # According to the specifications we have to take into account random wind which might force us into a\n",
    "    # arbitrary action\n",
    "                if np.random.rand(1) < rand_action_prob:\n",
    "                    next_action[0] = env.action_space.sample()\n",
    "                \n",
    "                # Get new state and reward by taking the `predicted_move`\n",
    "                new_state, reward, done, _ = env.step(next_action[0])\n",
    "\n",
    "                # Get Q values for next state\n",
    "                nextStateQ = sess.run(Qout, feed_dict={inputs:np.identity(16)[new_state:new_state+1]})\n",
    "                maxNextState = np.max(nextStateQ)\n",
    "                updatedQ = predictedQ\n",
    "                updatedQ[0, next_action[0]] = reward + gamma_reduction * maxNextState\n",
    "                _, _ = sess.run([updateModel, W] ,feed_dict={inputs:np.identity(16)[state:state+1],nextQ:updatedQ})\n",
    "                \n",
    "                episode_reward += reward\n",
    "                state = new_state\n",
    "                \n",
    "                if done == True:\n",
    "                    #Reduce chance of random action because of wind as we train the model.\n",
    "                    rand_action_prob = 1./((i/50) + 10)\n",
    "                    break                \n",
    "                \n",
    "            rewards.append(episode_reward)\n",
    "            if i % print_every == 0:\n",
    "                print \"Episode: {}, Total Reward: {}\".format(i, str(sum(rewards)/(i+1)))\n",
    "        \n",
    "        print \"================== Reward ================\"\n",
    "        print \"Total Reward : \"+ str(sum(rewards)/num_episodes)\n",
    "        \n",
    "        return rewards\n",
    "\n",
    "            "
   ]
  },
  {
   "cell_type": "code",
   "execution_count": 273,
   "metadata": {
    "collapsed": false
   },
   "outputs": [
    {
     "name": "stdout",
     "output_type": "stream",
     "text": [
      "Episode: 0, Total Reward: 1.0\n",
      "Episode: 1000, Total Reward: 0.0769230769231\n",
      "Episode: 2000, Total Reward: 0.0764617691154\n",
      "Episode: 3000, Total Reward: 0.0779740086638\n",
      "Episode: 4000, Total Reward: 0.0817295676081\n",
      "Episode: 5000, Total Reward: 0.0817836432713\n",
      "Episode: 6000, Total Reward: 0.0849858356941\n",
      "Episode: 7000, Total Reward: 0.0879874303671\n",
      "Episode: 8000, Total Reward: 0.0951131108611\n",
      "Episode: 9000, Total Reward: 0.101322075325\n",
      "================== Reward ================\n",
      "Total Reward : 0.1059\n"
     ]
    }
   ],
   "source": [
    "rewards = play(print_every, max_loops_per_episode)"
   ]
  },
  {
   "cell_type": "code",
   "execution_count": 274,
   "metadata": {
    "collapsed": false
   },
   "outputs": [
    {
     "data": {
      "text/plain": [
       "[<matplotlib.lines.Line2D at 0x11417ed90>]"
      ]
     },
     "execution_count": 274,
     "metadata": {},
     "output_type": "execute_result"
    },
    {
     "data": {
      "image/png": "[encoded data removed]",
      "text/plain": [
       "<matplotlib.figure.Figure at 0x1153c7b50>"
      ]
     },
     "metadata": {},
     "output_type": "display_data"
    }
   ],
   "source": [
    "plt.plot(rewards)\n"
   ]
  },
  {
   "cell_type": "code",
   "execution_count": 275,
   "metadata": {
    "collapsed": false
   },
   "outputs": [
    {
     "name": "stdout",
     "output_type": "stream",
     "text": [
      "1059.0\n"
     ]
    }
   ],
   "source": [
    "print sum(rewards)"
   ]
  },
  {
   "cell_type": "code",
   "execution_count": null,
   "metadata": {
    "collapsed": true
   },
   "outputs": [],
   "source": []
  }
 ],
 "metadata": {
  "kernelspec": {
   "display_name": "Python 2",
   "language": "python",
   "name": "python2"
  },
  "language_info": {
   "codemirror_mode": {
    "name": "ipython",
    "version": 2
   },
   "file_extension": ".py",
   "mimetype": "text/x-python",
   "name": "python",
   "nbconvert_exporter": "python",
   "pygments_lexer": "ipython2",
   "version": "2.7.12"
  }
 },
 "nbformat": 4,
 "nbformat_minor": 0
}
