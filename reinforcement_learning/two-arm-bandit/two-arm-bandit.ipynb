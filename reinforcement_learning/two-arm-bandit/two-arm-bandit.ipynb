{
 "cells": [
  {
   "cell_type": "markdown",
   "metadata": {
    "collapsed": true
   },
   "source": [
    "# Simple Reinforcement Learning in Tensorflow,\n",
    "\n",
    "## The Multi-armed bandit ,\n",
    "\n",
    "For more information, see this [Medium post](https://medium.com/@awjuliani/super-simple-reinforcement-learning-tutorial-part-1-fd544fab149). "
   ]
  },
  {
   "cell_type": "code",
   "execution_count": 35,
   "metadata": {
    "collapsed": true
   },
   "outputs": [],
   "source": [
    "import tensorflow as tf\n",
    "import numpy as np"
   ]
  },
  {
   "cell_type": "markdown",
   "metadata": {},
   "source": [
    "### The Bandits\n",
    "Here we define our bandits. For this example we are using a four-armed bandit. The pullBandit function generates a random number from a normal distribution with a mean of 0. The lower the bandit number, the more likely a positive reward will be returned. We want our agent to learn to always choose the bandit that will give that positive reward."
   ]
  },
  {
   "cell_type": "code",
   "execution_count": 48,
   "metadata": {
    "collapsed": true
   },
   "outputs": [],
   "source": [
    "bandits = [-0.2,0,0.2,-0.6, -0.7, 0.1]\n",
    "num_bandits = len(bandits)\n",
    "def pullBandit(bandit):\n",
    "    #Get a random number.\n",
    "    result = np.random.randn(1)\n",
    "    if result > bandit:\n",
    "        #return a positive reward.\n",
    "        return 1\n",
    "    else:\n",
    "        #return a negative reward.\n",
    "        return -1"
   ]
  },
  {
   "cell_type": "markdown",
   "metadata": {},
   "source": [
    "### Define Neural network"
   ]
  },
  {
   "cell_type": "code",
   "execution_count": 49,
   "metadata": {
    "collapsed": true
   },
   "outputs": [],
   "source": [
    "learning_rate = 0.001\n",
    "num_episodes = 5000\n",
    "e = 0.1 # Chance of taking random action\n",
    "\n",
    "print_every = 500\n",
    "\n",
    "tf.reset_default_graph()\n",
    "# Give weights for each bandit. To being we assume all of them are equally likely to win\n",
    "weights = tf.Variable(tf.ones([num_bandits]))\n",
    "next_action = tf.argmax(weights, name=\"next_action\")\n",
    "\n",
    "reward = tf.placeholder(shape=[1], dtype=tf.float32)\n",
    "action = tf.placeholder(shape=[1], dtype=tf.int32) # Represents index in banits array\n",
    "policy = tf.slice(weights, action, [1]) # Our policy here is nothing but our weight\n",
    "loss = -(tf.log(policy) * reward)\n",
    "optimizer = tf.train.GradientDescentOptimizer(learning_rate=learning_rate)\n",
    "update = optimizer.minimize(loss)\n"
   ]
  },
  {
   "cell_type": "markdown",
   "metadata": {},
   "source": [
    "### Train "
   ]
  },
  {
   "cell_type": "code",
   "execution_count": 50,
   "metadata": {
    "collapsed": false
   },
   "outputs": [
    {
     "name": "stdout",
     "output_type": "stream",
     "text": [
      "0 Episodes Complete: Rewards [-1.  0.  0.  0.  0.  0.]\n",
      "500 Episodes Complete: Rewards [   5.   -4.   -3.    6.  220.    1.]\n",
      "1000 Episodes Complete: Rewards [   5.   -3.  -10.    9.  448.   -2.]\n",
      "1500 Episodes Complete: Rewards [   8.    3.  -15.   14.  699.   -6.]\n",
      "2000 Episodes Complete: Rewards [  10.    2.  -11.   19.  944.   -7.]\n",
      "2500 Episodes Complete: Rewards [   11.     4.   -14.    20.  1170.    -8.]\n",
      "3000 Episodes Complete: Rewards [   12.     5.   -11.    23.  1427.   -11.]\n",
      "3500 Episodes Complete: Rewards [   10.    12.   -10.    26.  1656.    -7.]\n",
      "4000 Episodes Complete: Rewards [    9.    10.   -10.    30.  1902.   -10.]\n",
      "4500 Episodes Complete: Rewards [    9.    11.   -11.    36.  2133.   -11.]\n",
      "Winning bandit: 4\n",
      "Our Agent is: right!\n"
     ]
    }
   ],
   "source": [
    "bandit_rewards = np.zeros(num_bandits)\n",
    "\n",
    "init = tf.global_variables_initializer()\n",
    "\n",
    "with tf.Session() as sess:\n",
    "    sess.run(init)\n",
    "    i = 0\n",
    "    while i < num_episodes:\n",
    "        if np.random.rand(1) < e:\n",
    "            next_a = np.random.randint(num_bandits)\n",
    "        else:\n",
    "            next_a = sess.run(next_action)\n",
    "        \n",
    "        earned_reward = pullBandit(bandits[next_a]) #Get our reward from picking one of the bandits.\n",
    "        \n",
    "        _,pol,ww = sess.run([update,policy,weights], feed_dict={reward:[earned_reward],action:[next_a]})\n",
    "        \n",
    "        bandit_rewards[next_a] += earned_reward\n",
    "        \n",
    "        if i % print_every == 0:\n",
    "            print str(i) + \" Episodes Complete: Rewards \" + str(bandit_rewards)\n",
    "        \n",
    "        i += 1\n",
    "        \n",
    "print \"Winning bandit: \" + str(np.argmax(ww))\n",
    "\n",
    "print \"Our Agent is: \" + (\"right!\" if np.argmax(ww) == np.argmax(-np.array(bandits)) else \"Wrong!\")"
   ]
  },
  {
   "cell_type": "code",
   "execution_count": null,
   "metadata": {
    "collapsed": true
   },
   "outputs": [],
   "source": []
  },
  {
   "cell_type": "code",
   "execution_count": null,
   "metadata": {
    "collapsed": true
   },
   "outputs": [],
   "source": []
  }
 ],
 "metadata": {
  "kernelspec": {
   "display_name": "Python 2",
   "language": "python",
   "name": "python2"
  },
  "language_info": {
   "codemirror_mode": {
    "name": "ipython",
    "version": 2
   },
   "file_extension": ".py",
   "mimetype": "text/x-python",
   "name": "python",
   "nbconvert_exporter": "python",
   "pygments_lexer": "ipython2",
   "version": "2.7.12"
  }
 },
 "nbformat": 4,
 "nbformat_minor": 2
}
